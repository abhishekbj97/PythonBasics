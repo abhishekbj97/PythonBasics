{
 "cells": [
  {
   "cell_type": "code",
   "execution_count": 4,
   "metadata": {},
   "outputs": [
    {
     "name": "stdout",
     "output_type": "stream",
     "text": [
      "a and b will are valid statements \n"
     ]
    }
   ],
   "source": [
    "a = 10\n",
    "b = 20\n",
    "if(a==10 and b==20):\n",
    "    print(\"a and b will are valid statements \")"
   ]
  },
  {
   "cell_type": "markdown",
   "metadata": {},
   "source": [
    "# Note how \"and\" works in python\n",
    "https://realpython.com/python-and-operator/\n",
    "\n",
    "    True True ---> True\n",
    "    \n",
    "    False False--> False\n",
    "    \n",
    "    True False---> False\n",
    "    \n",
    "    False True---> False"
   ]
  },
  {
   "cell_type": "code",
   "execution_count": 6,
   "metadata": {},
   "outputs": [
    {
     "data": {
      "text/plain": [
       "True"
      ]
     },
     "execution_count": 6,
     "metadata": {},
     "output_type": "execute_result"
    }
   ],
   "source": [
    "a==10 and b==20"
   ]
  },
  {
   "cell_type": "code",
   "execution_count": 7,
   "metadata": {},
   "outputs": [
    {
     "data": {
      "text/plain": [
       "True"
      ]
     },
     "execution_count": 7,
     "metadata": {},
     "output_type": "execute_result"
    }
   ],
   "source": [
    "a==10"
   ]
  },
  {
   "cell_type": "code",
   "execution_count": 8,
   "metadata": {},
   "outputs": [
    {
     "data": {
      "text/plain": [
       "True"
      ]
     },
     "execution_count": 8,
     "metadata": {},
     "output_type": "execute_result"
    }
   ],
   "source": [
    "b==20"
   ]
  },
  {
   "cell_type": "markdown",
   "metadata": {},
   "source": [
    "make small code into line by line execution for better understanding "
   ]
  },
  {
   "cell_type": "code",
   "execution_count": 9,
   "metadata": {},
   "outputs": [
    {
     "name": "stdout",
     "output_type": "stream",
     "text": [
      "invalid \n"
     ]
    }
   ],
   "source": [
    "a=20\n",
    "b=40\n",
    "if(a==10 and b==40):\n",
    "    print(\"statemnts are correct\")\n",
    "else:\n",
    "    print(\"invalid \")"
   ]
  },
  {
   "cell_type": "code",
   "execution_count": 12,
   "metadata": {},
   "outputs": [
    {
     "name": "stdout",
     "output_type": "stream",
     "text": [
      "statements are correct\n"
     ]
    }
   ],
   "source": [
    "a=20\n",
    "b=40\n",
    "if(a==10 and b==40):\n",
    "    print(\"if statemnts a==10 and b==40\")\n",
    "elif(a==10 and b<20):\n",
    "    print(\"elif statemets\")\n",
    "elif(a==20 and b<=40):\n",
    "    print(\"statements are correct\") #------------------------>hint\n",
    "else:\n",
    "    print(\"invalid \")"
   ]
  },
  {
   "cell_type": "markdown",
   "metadata": {},
   "source": [
    "# Note how \"or\" works in python\n",
    "https://realpython.com/python-or-operator/\n",
    "\n",
    "True True ---> True\n",
    "\n",
    "False False--> False\n",
    "\n",
    "True False---> True\n",
    "\n",
    "False True---> True"
   ]
  },
  {
   "cell_type": "code",
   "execution_count": 13,
   "metadata": {},
   "outputs": [
    {
     "name": "stdout",
     "output_type": "stream",
     "text": [
      "if statemnts a==10 and b==40\n"
     ]
    }
   ],
   "source": [
    "a=20\n",
    "b=40\n",
    "if(a==10 or b==40):\n",
    "    print(\"if statemnts a==10 and b==40\")\n",
    "elif(a==20 or b<20):  #--------------------------->hint\n",
    "    print(\"elif statemets\")\n",
    "elif(a==20 and b<=40):\n",
    "    print(\"statements are correct\")\n",
    "else:\n",
    "    print(\"invalid \")"
   ]
  },
  {
   "cell_type": "markdown",
   "metadata": {},
   "source": [
    "# Task for validate input from user and first-name and last-name using multiple condition "
   ]
  },
  {
   "cell_type": "code",
   "execution_count": 23,
   "metadata": {},
   "outputs": [
    {
     "name": "stdout",
     "output_type": "stream",
     "text": [
      "enter first name: aaa\n",
      "enter last name: ggg\n",
      "invalid\n"
     ]
    }
   ],
   "source": [
    "first_name = input(\"enter first name: \")\n",
    "last_name = input(\"enter last name: \")\n",
    "\n",
    "if(first_name==\"abhishek\" and last_name==\"barandooru janavejirao\"):\n",
    "    print(\"correct but all in small letters \")\n",
    "elif(first_name==\"Abhishek\" and last_name==\"Barandooru Janavejirao\"):\n",
    "    print(\"Correct\")\n",
    "elif(first_name==\"abhishek\" or last_name==\"barandooru janavejirao\"):\n",
    "    print(\"either first name or second name is correct\")\n",
    "else:\n",
    "    print(\"invalid\")"
   ]
  },
  {
   "cell_type": "markdown",
   "metadata": {},
   "source": [
    "# while loop"
   ]
  },
  {
   "cell_type": "code",
   "execution_count": 21,
   "metadata": {},
   "outputs": [
    {
     "name": "stdout",
     "output_type": "stream",
     "text": [
      "started speed\n",
      "started speed\n",
      "started speed\n",
      "started speed\n",
      "started speed\n",
      "started speed\n",
      "started speed\n",
      "started speed\n",
      "started speed\n",
      "started speed\n"
     ]
    }
   ],
   "source": [
    "initial_speed = 0\n",
    "final_speed = 100\n",
    "count = 0\n",
    "while (initial_speed < final_speed):\n",
    "    print(\"started speed\")\n",
    "    count = count + 1\n",
    "    if(count==10):\n",
    "        break"
   ]
  },
  {
   "cell_type": "markdown",
   "metadata": {},
   "source": [
    "# above code in different way"
   ]
  },
  {
   "cell_type": "code",
   "execution_count": 20,
   "metadata": {},
   "outputs": [
    {
     "name": "stdout",
     "output_type": "stream",
     "text": [
      "started speed\n",
      "started speed\n",
      "started speed\n",
      "started speed\n",
      "started speed\n",
      "started speed\n",
      "started speed\n",
      "started speed\n",
      "started speed\n",
      "started speed\n"
     ]
    }
   ],
   "source": [
    "initial_speed, count = 0,0\n",
    "final_speed = 100\n",
    "while (initial_speed < final_speed):\n",
    "    print(\"started speed\")\n",
    "    count = count + 1\n",
    "    if(count==10):\n",
    "        break\n"
   ]
  },
  {
   "cell_type": "code",
   "execution_count": 24,
   "metadata": {},
   "outputs": [
    {
     "name": "stdout",
     "output_type": "stream",
     "text": [
      "1\n",
      "2\n",
      "3\n",
      "4\n",
      "5\n",
      "6\n",
      "7\n",
      "8\n",
      "9\n"
     ]
    }
   ],
   "source": [
    "a = 1\n",
    "b = 10\n",
    "while(a < b):\n",
    "    print(a)\n",
    "    a = a + 1"
   ]
  },
  {
   "cell_type": "markdown",
   "metadata": {},
   "source": [
    "# while else loop together\n",
    "how it works in python? when while is false then after else will execute"
   ]
  },
  {
   "cell_type": "code",
   "execution_count": 2,
   "metadata": {},
   "outputs": [
    {
     "name": "stdout",
     "output_type": "stream",
     "text": [
      "1\n",
      "2\n",
      "3\n",
      "4\n",
      "5\n",
      "6\n",
      "7\n",
      "8\n",
      "9\n",
      "10\n",
      "maximum is 10, not more than that\n"
     ]
    }
   ],
   "source": [
    "currency = 1\n",
    "limit = 10\n",
    "while currency <= limit:\n",
    "    print(currency)\n",
    "    currency = currency + 1\n",
    "else:\n",
    "    print(\"maximum is 10, not more than that\")"
   ]
  },
  {
   "cell_type": "markdown",
   "metadata": {},
   "source": [
    "# while-else-while"
   ]
  },
  {
   "cell_type": "code",
   "execution_count": 9,
   "metadata": {},
   "outputs": [
    {
     "name": "stdout",
     "output_type": "stream",
     "text": [
      "currency number  1\n",
      "currency number  2\n",
      "currency number  3\n",
      "currency number  4\n",
      "currency number  5\n",
      "currency number  6\n",
      "currency number  7\n",
      "currency number  8\n",
      "currency number  9\n",
      "currency number  10\n",
      "not more than 10 notes \n"
     ]
    }
   ],
   "source": [
    "currency = 1\n",
    "notes = 10\n",
    "k = 1\n",
    "while currency < notes:\n",
    "    print(\"currency number \",currency)\n",
    "    currency += 1                     #----------------> another way of increment currency = currency + 1\n",
    "else:\n",
    "    while k < 2:\n",
    "        print(\"currency number \",currency)\n",
    "        k = k + 1\n",
    "    print(\"not more than 10 notes \")"
   ]
  },
  {
   "cell_type": "code",
   "execution_count": 10,
   "metadata": {},
   "outputs": [
    {
     "data": {
      "text/plain": [
       "'abhishek'"
      ]
     },
     "execution_count": 10,
     "metadata": {},
     "output_type": "execute_result"
    }
   ],
   "source": [
    "a = \"abhishek\"\n",
    "a"
   ]
  },
  {
   "cell_type": "code",
   "execution_count": 11,
   "metadata": {},
   "outputs": [
    {
     "data": {
      "text/plain": [
       "'a'"
      ]
     },
     "execution_count": 11,
     "metadata": {},
     "output_type": "execute_result"
    }
   ],
   "source": [
    "a[0]"
   ]
  },
  {
   "cell_type": "code",
   "execution_count": 12,
   "metadata": {},
   "outputs": [
    {
     "ename": "IndexError",
     "evalue": "string index out of range",
     "output_type": "error",
     "traceback": [
      "\u001b[1;31m---------------------------------------------------------------------------\u001b[0m",
      "\u001b[1;31mIndexError\u001b[0m                                Traceback (most recent call last)",
      "\u001b[1;32m<ipython-input-12-2ba6acdce15e>\u001b[0m in \u001b[0;36m<module>\u001b[1;34m\u001b[0m\n\u001b[1;32m----> 1\u001b[1;33m \u001b[0ma\u001b[0m\u001b[1;33m[\u001b[0m\u001b[1;36m20\u001b[0m\u001b[1;33m]\u001b[0m\u001b[1;33m\u001b[0m\u001b[1;33m\u001b[0m\u001b[0m\n\u001b[0m",
      "\u001b[1;31mIndexError\u001b[0m: string index out of range"
     ]
    }
   ],
   "source": [
    "a[20]"
   ]
  },
  {
   "cell_type": "code",
   "execution_count": 14,
   "metadata": {},
   "outputs": [
    {
     "data": {
      "text/plain": [
       "'his'"
      ]
     },
     "execution_count": 14,
     "metadata": {},
     "output_type": "execute_result"
    }
   ],
   "source": [
    "a[2:5]   #------------->start from 2, but exclude 5th position of data  "
   ]
  },
  {
   "cell_type": "code",
   "execution_count": 16,
   "metadata": {},
   "outputs": [
    {
     "data": {
      "text/plain": [
       "'hs'"
      ]
     },
     "execution_count": 16,
     "metadata": {},
     "output_type": "execute_result"
    }
   ],
   "source": [
    "a[2:6:2]  #------------> start, end, stepsize"
   ]
  },
  {
   "cell_type": "code",
   "execution_count": 18,
   "metadata": {},
   "outputs": [
    {
     "data": {
      "text/plain": [
       "''"
      ]
     },
     "execution_count": 18,
     "metadata": {},
     "output_type": "execute_result"
    }
   ],
   "source": [
    "a[6:2]  #-----------> why blank gothrough line scale idea"
   ]
  },
  {
   "cell_type": "code",
   "execution_count": 20,
   "metadata": {},
   "outputs": [
    {
     "data": {
      "text/plain": [
       "''"
      ]
     },
     "execution_count": 20,
     "metadata": {},
     "output_type": "execute_result"
    }
   ],
   "source": [
    "a[6:2:1] #----------->again gothrough line scale mapping the points"
   ]
  },
  {
   "cell_type": "code",
   "execution_count": 21,
   "metadata": {},
   "outputs": [
    {
     "data": {
      "text/plain": [
       "'ehsi'"
      ]
     },
     "execution_count": 21,
     "metadata": {},
     "output_type": "execute_result"
    }
   ],
   "source": [
    "a[6:2:-1]"
   ]
  },
  {
   "cell_type": "code",
   "execution_count": 22,
   "metadata": {},
   "outputs": [
    {
     "data": {
      "text/plain": [
       "'es'"
      ]
     },
     "execution_count": 22,
     "metadata": {},
     "output_type": "execute_result"
    }
   ],
   "source": [
    "a[6:2:-2]"
   ]
  },
  {
   "cell_type": "markdown",
   "metadata": {},
   "source": [
    "# reverse string"
   ]
  },
  {
   "cell_type": "code",
   "execution_count": 23,
   "metadata": {},
   "outputs": [
    {
     "data": {
      "text/plain": [
       "'romanti country is Italy'"
      ]
     },
     "execution_count": 23,
     "metadata": {},
     "output_type": "execute_result"
    }
   ],
   "source": [
    "a = \"romanti country is Italy\"\n",
    "a"
   ]
  },
  {
   "cell_type": "code",
   "execution_count": 24,
   "metadata": {},
   "outputs": [
    {
     "data": {
      "text/plain": [
       "'romanti country is Ital'"
      ]
     },
     "execution_count": 24,
     "metadata": {},
     "output_type": "execute_result"
    }
   ],
   "source": [
    "a[:-1]"
   ]
  },
  {
   "cell_type": "code",
   "execution_count": 25,
   "metadata": {},
   "outputs": [
    {
     "data": {
      "text/plain": [
       "'ylatI si yrtnuoc itnamor'"
      ]
     },
     "execution_count": 25,
     "metadata": {},
     "output_type": "execute_result"
    }
   ],
   "source": [
    "a[::-1]"
   ]
  },
  {
   "cell_type": "code",
   "execution_count": 29,
   "metadata": {},
   "outputs": [
    {
     "data": {
      "text/plain": [
       "'manti country is'"
      ]
     },
     "execution_count": 29,
     "metadata": {},
     "output_type": "execute_result"
    }
   ],
   "source": [
    "a[2:-6]"
   ]
  },
  {
   "cell_type": "code",
   "execution_count": 32,
   "metadata": {},
   "outputs": [
    {
     "data": {
      "text/plain": [
       "'yaIs rno ta'"
      ]
     },
     "execution_count": 32,
     "metadata": {},
     "output_type": "execute_result"
    }
   ],
   "source": [
    "a[-1:1:-2] #---------------->think it tricky "
   ]
  },
  {
   "cell_type": "code",
   "execution_count": null,
   "metadata": {},
   "outputs": [],
   "source": []
  }
 ],
 "metadata": {
  "kernelspec": {
   "display_name": "Python 3",
   "language": "python",
   "name": "python3"
  },
  "language_info": {
   "codemirror_mode": {
    "name": "ipython",
    "version": 3
   },
   "file_extension": ".py",
   "mimetype": "text/x-python",
   "name": "python",
   "nbconvert_exporter": "python",
   "pygments_lexer": "ipython3",
   "version": "3.8.5"
  }
 },
 "nbformat": 4,
 "nbformat_minor": 4
}
